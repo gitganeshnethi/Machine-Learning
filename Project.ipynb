{
 "cells": [
  {
   "cell_type": "code",
   "execution_count": 1,
   "metadata": {},
   "outputs": [],
   "source": [
    "import pandas as pd\n",
    "import numpy as np\n",
    "from matplotlib import pyplot as plt"
   ]
  },
  {
   "cell_type": "code",
   "execution_count": 11,
   "metadata": {},
   "outputs": [
    {
     "name": "stderr",
     "output_type": "stream",
     "text": [
      "Using TensorFlow backend.\n"
     ]
    }
   ],
   "source": [
    "import os\n",
    "import pickle\n",
    "import sqlite3\n",
    "\n",
    "# nltk for preprocessing of text data\n",
    "import nltk\n",
    "from nltk.tokenize import sent_tokenize, word_tokenize\n",
    "from nltk.corpus import stopwords\n",
    "from nltk.stem.snowball import SnowballStemmer\n",
    "\n",
    "# sklearn for preprocessing and machine learning models\n",
    "from sklearn.model_selection import train_test_split\n",
    "from sklearn.naive_bayes import MultinomialNB\n",
    "from sklearn.ensemble import GradientBoostingClassifier\n",
    "from sklearn.metrics  import accuracy_score\n",
    "from sklearn.utils import shuffle\n",
    "from sklearn.preprocessing import OneHotEncoder\n",
    "from sklearn.feature_extraction.text import TfidfVectorizer\n",
    "\n",
    "# XGBoost for Machine Learning (Gradient Boosting Machine (GBM))\n",
    "import xgboost as xgb\n",
    "\n",
    "# Keras for neural networks\n",
    "import keras\n",
    "from keras.models import Sequential\n",
    "from keras.layers import Dense, Dropout, BatchNormalization\n",
    "from keras.layers import Flatten\n",
    "from keras.layers.embeddings import Embedding\n",
    "from keras.preprocessing import sequence\n",
    "from keras.utils import to_categorical\n",
    "from keras.callbacks import EarlyStopping\n",
    "\n",
    "# Random seeds for consistent results\n",
    "from tensorflow import set_random_seed\n",
    "seed = 1234\n",
    "np.random.seed(seed)\n",
    "set_random_seed(seed)"
   ]
  },
  {
   "cell_type": "code",
   "execution_count": 39,
   "metadata": {},
   "outputs": [
    {
     "name": "stdout",
     "output_type": "stream",
     "text": [
      "Raw Dataframe:\n"
     ]
    },
    {
     "data": {
      "text/html": [
       "<div>\n",
       "<style scoped>\n",
       "    .dataframe tbody tr th:only-of-type {\n",
       "        vertical-align: middle;\n",
       "    }\n",
       "\n",
       "    .dataframe tbody tr th {\n",
       "        vertical-align: top;\n",
       "    }\n",
       "\n",
       "    .dataframe thead th {\n",
       "        text-align: right;\n",
       "    }\n",
       "</style>\n",
       "<table border=\"1\" class=\"dataframe\">\n",
       "  <thead>\n",
       "    <tr style=\"text-align: right;\">\n",
       "      <th></th>\n",
       "      <th>tweet_id</th>\n",
       "      <th>airline_sentiment</th>\n",
       "      <th>airline_sentiment_confidence</th>\n",
       "      <th>negativereason</th>\n",
       "      <th>negativereason_confidence</th>\n",
       "      <th>airline</th>\n",
       "      <th>airline_sentiment_gold</th>\n",
       "      <th>name</th>\n",
       "      <th>negativereason_gold</th>\n",
       "      <th>retweet_count</th>\n",
       "      <th>text</th>\n",
       "      <th>tweet_coord</th>\n",
       "      <th>tweet_created</th>\n",
       "      <th>tweet_location</th>\n",
       "      <th>user_timezone</th>\n",
       "    </tr>\n",
       "  </thead>\n",
       "  <tbody>\n",
       "    <tr>\n",
       "      <th>0</th>\n",
       "      <td>570306133677760513</td>\n",
       "      <td>neutral</td>\n",
       "      <td>1.0000</td>\n",
       "      <td>NaN</td>\n",
       "      <td>NaN</td>\n",
       "      <td>Virgin America</td>\n",
       "      <td>NaN</td>\n",
       "      <td>cairdin</td>\n",
       "      <td>NaN</td>\n",
       "      <td>0</td>\n",
       "      <td>@VirginAmerica What @dhepburn said.</td>\n",
       "      <td>NaN</td>\n",
       "      <td>2015-02-24 11:35:52 -0800</td>\n",
       "      <td>NaN</td>\n",
       "      <td>Eastern Time (US &amp; Canada)</td>\n",
       "    </tr>\n",
       "    <tr>\n",
       "      <th>1</th>\n",
       "      <td>570301130888122368</td>\n",
       "      <td>positive</td>\n",
       "      <td>0.3486</td>\n",
       "      <td>NaN</td>\n",
       "      <td>0.0</td>\n",
       "      <td>Virgin America</td>\n",
       "      <td>NaN</td>\n",
       "      <td>jnardino</td>\n",
       "      <td>NaN</td>\n",
       "      <td>0</td>\n",
       "      <td>@VirginAmerica plus you've added commercials t...</td>\n",
       "      <td>NaN</td>\n",
       "      <td>2015-02-24 11:15:59 -0800</td>\n",
       "      <td>NaN</td>\n",
       "      <td>Pacific Time (US &amp; Canada)</td>\n",
       "    </tr>\n",
       "    <tr>\n",
       "      <th>2</th>\n",
       "      <td>570301083672813571</td>\n",
       "      <td>neutral</td>\n",
       "      <td>0.6837</td>\n",
       "      <td>NaN</td>\n",
       "      <td>NaN</td>\n",
       "      <td>Virgin America</td>\n",
       "      <td>NaN</td>\n",
       "      <td>yvonnalynn</td>\n",
       "      <td>NaN</td>\n",
       "      <td>0</td>\n",
       "      <td>@VirginAmerica I didn't today... Must mean I n...</td>\n",
       "      <td>NaN</td>\n",
       "      <td>2015-02-24 11:15:48 -0800</td>\n",
       "      <td>Lets Play</td>\n",
       "      <td>Central Time (US &amp; Canada)</td>\n",
       "    </tr>\n",
       "  </tbody>\n",
       "</table>\n",
       "</div>"
      ],
      "text/plain": [
       "             tweet_id airline_sentiment  airline_sentiment_confidence  \\\n",
       "0  570306133677760513           neutral                        1.0000   \n",
       "1  570301130888122368          positive                        0.3486   \n",
       "2  570301083672813571           neutral                        0.6837   \n",
       "\n",
       "  negativereason  negativereason_confidence         airline  \\\n",
       "0            NaN                        NaN  Virgin America   \n",
       "1            NaN                        0.0  Virgin America   \n",
       "2            NaN                        NaN  Virgin America   \n",
       "\n",
       "  airline_sentiment_gold        name negativereason_gold  retweet_count  \\\n",
       "0                    NaN     cairdin                 NaN              0   \n",
       "1                    NaN    jnardino                 NaN              0   \n",
       "2                    NaN  yvonnalynn                 NaN              0   \n",
       "\n",
       "                                                text tweet_coord  \\\n",
       "0                @VirginAmerica What @dhepburn said.         NaN   \n",
       "1  @VirginAmerica plus you've added commercials t...         NaN   \n",
       "2  @VirginAmerica I didn't today... Must mean I n...         NaN   \n",
       "\n",
       "               tweet_created tweet_location               user_timezone  \n",
       "0  2015-02-24 11:35:52 -0800            NaN  Eastern Time (US & Canada)  \n",
       "1  2015-02-24 11:15:59 -0800            NaN  Pacific Time (US & Canada)  \n",
       "2  2015-02-24 11:15:48 -0800      Lets Play  Central Time (US & Canada)  "
      ]
     },
     "execution_count": 39,
     "metadata": {},
     "output_type": "execute_result"
    }
   ],
   "source": [
    "raw_df = pd.read_csv('D:\\\\Project\\\\Tweets.csv') \n",
    "print('Raw Dataframe:')\n",
    "raw_df.head(3)"
   ]
  },
  {
   "cell_type": "code",
   "execution_count": 3,
   "metadata": {},
   "outputs": [],
   "source": [
    "df = raw_df"
   ]
  },
  {
   "cell_type": "code",
   "execution_count": 40,
   "metadata": {},
   "outputs": [
    {
     "name": "stdout",
     "output_type": "stream",
     "text": [
      "<class 'pandas.core.frame.DataFrame'>\n",
      "Int64Index: 14640 entries, 11135 to 11055\n",
      "Data columns (total 16 columns):\n",
      "tweet_id                        14640 non-null int64\n",
      "airline_sentiment               14640 non-null object\n",
      "airline_sentiment_confidence    14640 non-null float64\n",
      "negativereason                  9178 non-null object\n",
      "negativereason_confidence       10522 non-null float64\n",
      "airline                         14640 non-null object\n",
      "airline_sentiment_gold          40 non-null object\n",
      "name                            14640 non-null object\n",
      "negativereason_gold             32 non-null object\n",
      "retweet_count                   14640 non-null int64\n",
      "text                            14640 non-null object\n",
      "tweet_coord                     1019 non-null object\n",
      "tweet_created                   14640 non-null object\n",
      "tweet_location                  9907 non-null object\n",
      "user_timezone                   9820 non-null object\n",
      "cleaned_text                    14640 non-null object\n",
      "dtypes: float64(2), int64(2), object(12)\n",
      "memory usage: 1.9+ MB\n"
     ]
    }
   ],
   "source": [
    "df.info()"
   ]
  },
  {
   "cell_type": "code",
   "execution_count": 41,
   "metadata": {},
   "outputs": [
    {
     "data": {
      "text/html": [
       "<div>\n",
       "<style scoped>\n",
       "    .dataframe tbody tr th:only-of-type {\n",
       "        vertical-align: middle;\n",
       "    }\n",
       "\n",
       "    .dataframe tbody tr th {\n",
       "        vertical-align: top;\n",
       "    }\n",
       "\n",
       "    .dataframe thead th {\n",
       "        text-align: right;\n",
       "    }\n",
       "</style>\n",
       "<table border=\"1\" class=\"dataframe\">\n",
       "  <thead>\n",
       "    <tr style=\"text-align: right;\">\n",
       "      <th></th>\n",
       "      <th>tweet_id</th>\n",
       "      <th>airline_sentiment_confidence</th>\n",
       "      <th>negativereason_confidence</th>\n",
       "      <th>retweet_count</th>\n",
       "    </tr>\n",
       "  </thead>\n",
       "  <tbody>\n",
       "    <tr>\n",
       "      <th>count</th>\n",
       "      <td>1.464000e+04</td>\n",
       "      <td>14640.000000</td>\n",
       "      <td>10522.000000</td>\n",
       "      <td>14640.000000</td>\n",
       "    </tr>\n",
       "    <tr>\n",
       "      <th>mean</th>\n",
       "      <td>5.692184e+17</td>\n",
       "      <td>0.900169</td>\n",
       "      <td>0.638298</td>\n",
       "      <td>0.082650</td>\n",
       "    </tr>\n",
       "    <tr>\n",
       "      <th>std</th>\n",
       "      <td>7.791112e+14</td>\n",
       "      <td>0.162830</td>\n",
       "      <td>0.330440</td>\n",
       "      <td>0.745778</td>\n",
       "    </tr>\n",
       "    <tr>\n",
       "      <th>min</th>\n",
       "      <td>5.675883e+17</td>\n",
       "      <td>0.335000</td>\n",
       "      <td>0.000000</td>\n",
       "      <td>0.000000</td>\n",
       "    </tr>\n",
       "    <tr>\n",
       "      <th>25%</th>\n",
       "      <td>5.685592e+17</td>\n",
       "      <td>0.692300</td>\n",
       "      <td>0.360600</td>\n",
       "      <td>0.000000</td>\n",
       "    </tr>\n",
       "    <tr>\n",
       "      <th>50%</th>\n",
       "      <td>5.694779e+17</td>\n",
       "      <td>1.000000</td>\n",
       "      <td>0.670600</td>\n",
       "      <td>0.000000</td>\n",
       "    </tr>\n",
       "    <tr>\n",
       "      <th>75%</th>\n",
       "      <td>5.698905e+17</td>\n",
       "      <td>1.000000</td>\n",
       "      <td>1.000000</td>\n",
       "      <td>0.000000</td>\n",
       "    </tr>\n",
       "    <tr>\n",
       "      <th>max</th>\n",
       "      <td>5.703106e+17</td>\n",
       "      <td>1.000000</td>\n",
       "      <td>1.000000</td>\n",
       "      <td>44.000000</td>\n",
       "    </tr>\n",
       "  </tbody>\n",
       "</table>\n",
       "</div>"
      ],
      "text/plain": [
       "           tweet_id  airline_sentiment_confidence  negativereason_confidence  \\\n",
       "count  1.464000e+04                  14640.000000               10522.000000   \n",
       "mean   5.692184e+17                      0.900169                   0.638298   \n",
       "std    7.791112e+14                      0.162830                   0.330440   \n",
       "min    5.675883e+17                      0.335000                   0.000000   \n",
       "25%    5.685592e+17                      0.692300                   0.360600   \n",
       "50%    5.694779e+17                      1.000000                   0.670600   \n",
       "75%    5.698905e+17                      1.000000                   1.000000   \n",
       "max    5.703106e+17                      1.000000                   1.000000   \n",
       "\n",
       "       retweet_count  \n",
       "count   14640.000000  \n",
       "mean        0.082650  \n",
       "std         0.745778  \n",
       "min         0.000000  \n",
       "25%         0.000000  \n",
       "50%         0.000000  \n",
       "75%         0.000000  \n",
       "max        44.000000  "
      ]
     },
     "execution_count": 41,
     "metadata": {},
     "output_type": "execute_result"
    }
   ],
   "source": [
    "df.describe()"
   ]
  },
  {
   "cell_type": "code",
   "execution_count": 43,
   "metadata": {},
   "outputs": [
    {
     "name": "stdout",
     "output_type": "stream",
     "text": [
      "tweet_id                            0\n",
      "airline_sentiment                   0\n",
      "airline_sentiment_confidence        0\n",
      "negativereason                   5462\n",
      "negativereason_confidence        4118\n",
      "airline                             0\n",
      "airline_sentiment_gold          14600\n",
      "name                                0\n",
      "negativereason_gold             14608\n",
      "retweet_count                       0\n",
      "text                                0\n",
      "tweet_coord                     13621\n",
      "tweet_created                       0\n",
      "tweet_location                   4733\n",
      "user_timezone                    4820\n",
      "cleaned_text                        0\n",
      "dtype: int64\n"
     ]
    }
   ],
   "source": [
    "print(df.isnull().sum())"
   ]
  },
  {
   "cell_type": "code",
   "execution_count": 44,
   "metadata": {},
   "outputs": [
    {
     "data": {
      "text/plain": [
       "(14640, 16)"
      ]
     },
     "execution_count": 44,
     "metadata": {},
     "output_type": "execute_result"
    }
   ],
   "source": [
    "df.shape"
   ]
  },
  {
   "cell_type": "code",
   "execution_count": 45,
   "metadata": {},
   "outputs": [
    {
     "data": {
      "image/png": "[encoded data removed]",
      "text/plain": [
       "<Figure size 432x432 with 1 Axes>"
      ]
     },
     "metadata": {
      "needs_background": "light"
     },
     "output_type": "display_data"
    }
   ],
   "source": [
    "df['airline_sentiment'].value_counts().plot(kind = 'barh',\n",
    "                                            figsize = (6,6));\n",
    "plt.title('Distribution of airline sentiment', \n",
    "          fontsize = 26, weight = 'bold')\n",
    "plt.xlabel('Frequency', fontsize = 22)\n",
    "plt.xticks(fontsize = 20)\n",
    "plt.yticks(fontsize = 20);"
   ]
  },
  {
   "cell_type": "code",
   "execution_count": 5,
   "metadata": {},
   "outputs": [
    {
     "data": {
      "text/plain": [
       "[]"
      ]
     },
     "execution_count": 5,
     "metadata": {},
     "output_type": "execute_result"
    },
    {
     "data": {
      "image/png": "[encoded data removed]",
      "text/plain": [
       "<Figure size 1440x360 with 2 Axes>"
      ]
     },
     "metadata": {
      "needs_background": "light"
     },
     "output_type": "display_data"
    }
   ],
   "source": [
    "figsize=(20, 5)\n",
    "\n",
    "ticksize = 14\n",
    "titlesize = ticksize + 8\n",
    "labelsize = ticksize + 5\n",
    "\n",
    "params = {'figure.figsize' : figsize,\n",
    "          'axes.labelsize' : labelsize,\n",
    "          'axes.titlesize' : titlesize,\n",
    "          'xtick.labelsize': ticksize,\n",
    "          'ytick.labelsize': ticksize}\n",
    "\n",
    "plt.rcParams.update(params)\n",
    "\n",
    "plt.subplot(121)\n",
    "col = \"airline\"\n",
    "xlabel = \"Airlines\"\n",
    "ylabel = \"Count\"\n",
    "\n",
    "sns.countplot(x=df[col])\n",
    "plt.title(\"Airlines Review Count\")\n",
    "plt.xticks(rotation=90)\n",
    "plt.xlabel(xlabel)\n",
    "plt.ylabel(ylabel)\n",
    "\n",
    "\n",
    "plt.subplot(122)\n",
    "col = \"airline_sentiment\"\n",
    "xlabel = \"Sentiment\"\n",
    "ylabel = \"Count\"\n",
    "sns.countplot(df[col])\n",
    "plt.title(\"Review Sentiment Count\")\n",
    "plt.xlabel(xlabel)\n",
    "plt.ylabel(ylabel)\n",
    "plt.xticks(rotation=90)\n",
    "plt.plot()"
   ]
  },
  {
   "cell_type": "code",
   "execution_count": 6,
   "metadata": {},
   "outputs": [
    {
     "data": {
      "text/plain": [
       "[]"
      ]
     },
     "execution_count": 6,
     "metadata": {},
     "output_type": "execute_result"
    },
    {
     "data": {
      "image/png": "[encoded data removed]",
      "text/plain": [
       "<Figure size 1440x360 with 1 Axes>"
      ]
     },
     "metadata": {
      "needs_background": "light"
     },
     "output_type": "display_data"
    }
   ],
   "source": [
    "figsize=(20, 5)\n",
    "\n",
    "ticksize = 14\n",
    "titlesize = ticksize + 8\n",
    "labelsize = ticksize + 5\n",
    "\n",
    "xlabel = \"Negative Reason\"\n",
    "ylabel = \"Count\"\n",
    "\n",
    "title = \"Negative Reason Per Airlines\"\n",
    "\n",
    "\n",
    "params = {'figure.figsize' : figsize,\n",
    "          'axes.labelsize' : labelsize,\n",
    "          'axes.titlesize' : titlesize,\n",
    "          'xtick.labelsize': ticksize,\n",
    "          'ytick.labelsize': ticksize}\n",
    "\n",
    "plt.rcParams.update(params)\n",
    "\n",
    "col1 = \"negativereason\"\n",
    "col2 = \"airline\"\n",
    "sns.countplot(x=df[col1], hue=df[col2])\n",
    "plt.title(title)\n",
    "plt.xlabel(xlabel)\n",
    "plt.ylabel(ylabel)\n",
    "plt.xticks(rotation=90)\n",
    "plt.plot()"
   ]
  },
  {
   "cell_type": "code",
   "execution_count": 7,
   "metadata": {},
   "outputs": [
    {
     "name": "stderr",
     "output_type": "stream",
     "text": [
      "C:\\Users\\Administrator\\Anaconda3\\lib\\site-packages\\scipy\\stats\\stats.py:1713: FutureWarning: Using a non-tuple sequence for multidimensional indexing is deprecated; use `arr[tuple(seq)]` instead of `arr[seq]`. In the future this will be interpreted as an array index, `arr[np.array(seq)]`, which will result either in an error or a different result.\n",
      "  return np.add.reduce(sorted[indexer] * weights, axis=axis) / sumval\n"
     ]
    },
    {
     "data": {
      "text/plain": [
       "[]"
      ]
     },
     "execution_count": 7,
     "metadata": {},
     "output_type": "execute_result"
    },
    {
     "data": {
      "image/png": "[encoded data removed]",
      "text/plain": [
       "<Figure size 1296x360 with 1 Axes>"
      ]
     },
     "metadata": {
      "needs_background": "light"
     },
     "output_type": "display_data"
    }
   ],
   "source": [
    "x = df[\"negativereason_confidence\"].fillna(-1)\n",
    "\n",
    "figsize=(18, 5)\n",
    "\n",
    "ticksize = 12\n",
    "titlesize = ticksize + 8\n",
    "labelsize = ticksize + 5\n",
    "\n",
    "params = {'figure.figsize' : figsize,\n",
    "          'axes.labelsize' : labelsize,\n",
    "          'axes.titlesize' : titlesize,\n",
    "          'xtick.labelsize': ticksize,\n",
    "          'ytick.labelsize': ticksize}\n",
    "\n",
    "plt.rcParams.update(params)\n",
    "sns.distplot(x)\n",
    "plt.plot()"
   ]
  },
  {
   "cell_type": "markdown",
   "metadata": {},
   "source": [
    "# pre processing"
   ]
  },
  {
   "cell_type": "code",
   "execution_count": 9,
   "metadata": {},
   "outputs": [],
   "source": [
    "class PreProcessor:\n",
    "    '''\n",
    "    Easily performs all the standard preprocessing steps\n",
    "    like removing stopwords, stemming, etc.\n",
    "    Only input that you need to provide is the dataframe and column name for the tweets\n",
    "    '''\n",
    "    def __init__(self, df, column_name):\n",
    "        self.data = df\n",
    "        self.conversations = list(self.data[column_name])\n",
    "        self.stopwords = set(stopwords.words('english'))\n",
    "        self.stemmer = SnowballStemmer(\"english\")\n",
    "        self.preprocessed = []\n",
    "        \n",
    "    def tokenize(self, sentence):\n",
    "        '''\n",
    "        Splits up words and makes a list of all words in the tweet\n",
    "        '''\n",
    "        tokenized_sentence = word_tokenize(sentence)\n",
    "        return tokenized_sentence\n",
    "            \n",
    "    def remove_stopwords(self, sentence):\n",
    "        '''Removes stopwords like 'a', 'the', 'and', etc.'''\n",
    "        filtered_sentence = []\n",
    "        for w in sentence:\n",
    "            if w not in self.stopwords and len(w) > 1 and w[:2] != '//' and w != 'https': \n",
    "                filtered_sentence.append(w)\n",
    "        return filtered_sentence\n",
    "    \n",
    "    def stem(self, sentence):\n",
    "        '''\n",
    "        Stems certain words to their root form.\n",
    "        For example, words like 'computer', 'computation'\n",
    "        all get truncated to 'comput'\n",
    "        '''\n",
    "        return [self.stemmer.stem(word) for word in sentence]\n",
    "    \n",
    "    def join_to_string(self, sentence):\n",
    "        '''\n",
    "        Joins the tokenized words to one string.\n",
    "        '''\n",
    "        return ' '.join(sentence)\n",
    "    \n",
    "    def full_preprocess(self, n_rows=None):\n",
    "        '''\n",
    "        Preprocess a selected number of rows and\n",
    "        connects them back to strings\n",
    "        '''\n",
    "        # If nothing is given do it for the whole dataset\n",
    "        if n_rows == None:\n",
    "            n_rows = len(self.data)\n",
    "            \n",
    "        # Perform preprocessing\n",
    "        for i in range(n_rows):\n",
    "            tweet = self.conversations[i]\n",
    "            tokenized = self.tokenize(tweet)\n",
    "            cleaned = self.remove_stopwords(tokenized)\n",
    "            stemmed = self.stem(cleaned)\n",
    "            joined = self.join_to_string(stemmed)\n",
    "            self.preprocessed.append(joined)\n",
    "        return self.preprocessed"
   ]
  },
  {
   "cell_type": "code",
   "execution_count": 12,
   "metadata": {},
   "outputs": [],
   "source": [
    "# Preprocess text and put it in a new column\n",
    "preprocessor = PreProcessor(df, 'text')\n",
    "df['cleaned_text'] = preprocessor.full_preprocess()"
   ]
  },
  {
   "cell_type": "code",
   "execution_count": 46,
   "metadata": {},
   "outputs": [
    {
     "data": {
      "text/plain": [
       "11135    usairway bought ticket month ago had seat toge...\n",
       "3783     unit flight mke ord get delay our gate attend ...\n",
       "13332    americanair my boyfriend suppos home saturday ...\n",
       "11639                              usairway sit throne lie\n",
       "4496     southwestair 's principl 's hard get mug amp u...\n",
       "Name: cleaned_text, dtype: object"
      ]
     },
     "execution_count": 46,
     "metadata": {},
     "output_type": "execute_result"
    }
   ],
   "source": [
    "df['cleaned_text'].head(5)"
   ]
  },
  {
   "cell_type": "code",
   "execution_count": 14,
   "metadata": {},
   "outputs": [],
   "source": [
    "# Shuffling so we can get random tweets for the test set\n",
    "df = shuffle(df, random_state=seed)\n",
    "# Keep 1000 samples of the data as test set\n",
    "test_set = df[:1000]"
   ]
  },
  {
   "cell_type": "code",
   "execution_count": 15,
   "metadata": {},
   "outputs": [],
   "source": [
    "# Get training and validation data\n",
    "X_train, X_val, y_train, y_val = train_test_split(df['cleaned_text'][1000:], \n",
    "                                                  df['airline_sentiment'][1000:], \n",
    "                                                  test_size=0.2, \n",
    "                                                  random_state=seed)\n",
    "\n",
    "# Get sentiment labels for test set\n",
    "y_test = test_set['airline_sentiment']"
   ]
  },
  {
   "cell_type": "markdown",
   "metadata": {},
   "source": [
    "# Data vectorization"
   ]
  },
  {
   "cell_type": "code",
   "execution_count": 16,
   "metadata": {},
   "outputs": [],
   "source": [
    "# Create matrix based on word frequency in tweets\n",
    "vectorizer = TfidfVectorizer()\n",
    "X_train = vectorizer.fit_transform(X_train)\n",
    "X_val = vectorizer.transform(X_val)\n",
    "X_test = vectorizer.transform(test_set['cleaned_text'])"
   ]
  },
  {
   "cell_type": "code",
   "execution_count": 17,
   "metadata": {},
   "outputs": [
    {
     "name": "stdout",
     "output_type": "stream",
     "text": [
      "Training size: 10912 tweets\n",
      "Validation size: 2728 tweets\n",
      "Test size: 1000 tweets\n",
      "Amount of words (columns): 9672 words\n"
     ]
    }
   ],
   "source": [
    "# Print the size of our data\n",
    "print(f'Training size: {X_train.shape[0]} tweets\\n\\\n",
    "Validation size: {X_val.shape[0]} tweets\\n\\\n",
    "Test size: {X_test.shape[0]} tweets\\n\\\n",
    "Amount of words (columns): {X_train.shape[1]} words')"
   ]
  },
  {
   "cell_type": "markdown",
   "metadata": {},
   "source": [
    "# ML Models"
   ]
  },
  {
   "cell_type": "markdown",
   "metadata": {},
   "source": [
    "# Multinomial Naive Bayes"
   ]
  },
  {
   "cell_type": "code",
   "execution_count": 18,
   "metadata": {},
   "outputs": [
    {
     "data": {
      "text/plain": [
       "MultinomialNB(alpha=1.0, class_prior=None, fit_prior=True)"
      ]
     },
     "execution_count": 18,
     "metadata": {},
     "output_type": "execute_result"
    }
   ],
   "source": [
    "# Multinomial Naive Bayes\n",
    "multi_nb = MultinomialNB()\n",
    "multi_nb.fit(X_train, y_train)"
   ]
  },
  {
   "cell_type": "code",
   "execution_count": 19,
   "metadata": {},
   "outputs": [
    {
     "name": "stdout",
     "output_type": "stream",
     "text": [
      "Accuracy on training set (MultinomialNB): 72.6998%\n",
      "Accuracy on validation set (MultinomialNB): 69.1349%\n"
     ]
    }
   ],
   "source": [
    "# Check results\n",
    "train_pred = multi_nb.predict(X_train)\n",
    "val_pred = multi_nb.predict(X_val)\n",
    "print(f'Accuracy on training set (MultinomialNB): {round(accuracy_score(y_train, train_pred)*100, 4)}%')\n",
    "print(f'Accuracy on validation set (MultinomialNB): {round(accuracy_score(y_val,val_pred)*100, 4)}%')"
   ]
  },
  {
   "cell_type": "markdown",
   "metadata": {},
   "source": [
    "# Sklearn's Gradient Boosting Machine (GBM)"
   ]
  },
  {
   "cell_type": "code",
   "execution_count": 20,
   "metadata": {},
   "outputs": [
    {
     "data": {
      "text/plain": [
       "GradientBoostingClassifier(criterion='friedman_mse', init=None,\n",
       "              learning_rate=0.1, loss='deviance', max_depth=6,\n",
       "              max_features=None, max_leaf_nodes=None,\n",
       "              min_impurity_decrease=0.0, min_impurity_split=None,\n",
       "              min_samples_leaf=1, min_samples_split=2,\n",
       "              min_weight_fraction_leaf=0.0, n_estimators=200,\n",
       "              n_iter_no_change=None, presort='auto', random_state=1234,\n",
       "              subsample=1.0, tol=0.0001, validation_fraction=0.1,\n",
       "              verbose=0, warm_start=False)"
      ]
     },
     "execution_count": 20,
     "metadata": {},
     "output_type": "execute_result"
    }
   ],
   "source": [
    "# sklearn's Gradient Boosting Classifier (GBM)\n",
    "gbm = GradientBoostingClassifier(n_estimators=200, \n",
    "                                 max_depth=6, \n",
    "                                 random_state=seed)\n",
    "gbm.fit(X_train, y_train)"
   ]
  },
  {
   "cell_type": "code",
   "execution_count": 21,
   "metadata": {},
   "outputs": [
    {
     "name": "stdout",
     "output_type": "stream",
     "text": [
      "Accuracy on training set (GBM): 87.5367%\n",
      "Accuracy on validation set (GBM): 76.4296%\n"
     ]
    }
   ],
   "source": [
    "# Check results\n",
    "train_pred = gbm.predict(X_train)\n",
    "val_pred = gbm.predict(X_val)\n",
    "print(f'Accuracy on training set (GBM): {round(accuracy_score(y_train, train_pred)*100, 4)}%')\n",
    "print(f'Accuracy on validation set (GBM): {round(accuracy_score(y_val,val_pred)*100, 4)}%')"
   ]
  },
  {
   "cell_type": "markdown",
   "metadata": {},
   "source": [
    "# XGBoost (GBM)"
   ]
  },
  {
   "cell_type": "code",
   "execution_count": 22,
   "metadata": {},
   "outputs": [
    {
     "name": "stderr",
     "output_type": "stream",
     "text": [
      "C:\\Users\\Administrator\\Anaconda3\\lib\\site-packages\\xgboost\\core.py:587: FutureWarning: Series.base is deprecated and will be removed in a future version\n",
      "  if getattr(data, 'base', None) is not None and \\\n",
      "C:\\Users\\Administrator\\Anaconda3\\lib\\site-packages\\xgboost\\core.py:588: FutureWarning: Series.base is deprecated and will be removed in a future version\n",
      "  data.base is not None and isinstance(data, np.ndarray) \\\n"
     ]
    }
   ],
   "source": [
    "# Hyperparameters that you can tweak\n",
    "# There are a lot more tweakable hyperparameters that you can find at \n",
    "# https://xgboost.readthedocs.io/en/latest/parameter.html\n",
    "xgb_params = {'objective' : 'multi:softmax',\n",
    "              'eval_metric' : 'mlogloss',\n",
    "              'eta' : 0.1,\n",
    "              'max_depth' : 6,\n",
    "              'num_class' : 3,\n",
    "              'lambda' : 0.8,\n",
    "              'estimators' : 200,\n",
    "              'seed' : seed\n",
    "              \n",
    "}\n",
    "\n",
    "# Transform categories into numbers\n",
    "# negative = 0, neutral = 1 and positive = 2\n",
    "target_train = y_train.astype('category').cat.codes\n",
    "target_val = y_val.astype('category').cat.codes\n",
    "\n",
    "# Transform data into a matrix so that we can use XGBoost\n",
    "d_train = xgb.DMatrix(X_train, label = target_train)\n",
    "d_val = xgb.DMatrix(X_val, label = target_val)\n",
    "\n",
    "# Fit XGBoost\n",
    "watchlist = [(d_train, 'train'), (d_val, 'validation')]\n",
    "bst = xgb.train(xgb_params, \n",
    "                d_train, \n",
    "                400,  \n",
    "                watchlist,\n",
    "                early_stopping_rounds = 50, \n",
    "                verbose_eval = 0)"
   ]
  },
  {
   "cell_type": "code",
   "execution_count": 23,
   "metadata": {},
   "outputs": [
    {
     "name": "stdout",
     "output_type": "stream",
     "text": [
      "Accuracy on training set (XGBoost): 89.5803%\n",
      "Accuracy on validation set (XGBoost): 77.3827%\n"
     ]
    }
   ],
   "source": [
    "# Check results for XGBoost\n",
    "train_pred = bst.predict(d_train)\n",
    "val_pred = bst.predict(d_val)\n",
    "print(f'Accuracy on training set (XGBoost): {round(accuracy_score(target_train, train_pred)*100, 4)}%')\n",
    "print(f'Accuracy on validation set (XGBoost): {round(accuracy_score(target_val, val_pred)*100, 4)}%')"
   ]
  },
  {
   "cell_type": "markdown",
   "metadata": {},
   "source": [
    "# Simple neural network\n"
   ]
  },
  {
   "cell_type": "code",
   "execution_count": 24,
   "metadata": {},
   "outputs": [],
   "source": [
    "# Generator so we can easily feed batches of data to the neural network\n",
    "def batch_generator(X, y, batch_size, shuffle):\n",
    "    number_of_batches = X.shape[0]/batch_size\n",
    "    counter = 0\n",
    "    sample_index = np.arange(X.shape[0])\n",
    "    if shuffle:\n",
    "        np.random.shuffle(sample_index)\n",
    "    while True:\n",
    "        batch_index = sample_index[batch_size*counter:batch_size*(counter+1)]\n",
    "        X_batch = X[batch_index,:].toarray()\n",
    "        y_batch = y[batch_index]\n",
    "        counter += 1\n",
    "        yield X_batch, y_batch\n",
    "        if (counter == number_of_batches):\n",
    "            if shuffle:\n",
    "                np.random.shuffle(sample_index)\n",
    "            counter = 0"
   ]
  },
  {
   "cell_type": "code",
   "execution_count": 25,
   "metadata": {},
   "outputs": [],
   "source": [
    "# Onehot encoding of target variable\n",
    "# Negative = [1,0,0], Neutral = [0,1,0], Positive = [0,0,1]\n",
    "\n",
    "# Initialize sklearn's one-hot encoder class\n",
    "onehot_encoder = OneHotEncoder(sparse=False)\n",
    "\n",
    "# One hot encoding for training set\n",
    "integer_encoded_train = np.array(y_train).reshape(len(y_train), 1)\n",
    "onehot_encoded_train = onehot_encoder.fit_transform(integer_encoded_train)\n",
    "\n",
    "# One hot encoding for validation set\n",
    "integer_encoded_val = np.array(y_val).reshape(len(y_val), 1)\n",
    "onehot_encoded_val = onehot_encoder.fit_transform(integer_encoded_val)"
   ]
  },
  {
   "cell_type": "code",
   "execution_count": 26,
   "metadata": {},
   "outputs": [
    {
     "name": "stdout",
     "output_type": "stream",
     "text": [
      "WARNING:tensorflow:From C:\\Users\\Administrator\\Anaconda3\\lib\\site-packages\\tensorflow\\python\\framework\\op_def_library.py:263: colocate_with (from tensorflow.python.framework.ops) is deprecated and will be removed in a future version.\n",
      "Instructions for updating:\n",
      "Colocations handled automatically by placer.\n",
      "WARNING:tensorflow:From C:\\Users\\Administrator\\Anaconda3\\lib\\site-packages\\keras\\backend\\tensorflow_backend.py:3445: calling dropout (from tensorflow.python.ops.nn_ops) with keep_prob is deprecated and will be removed in a future version.\n",
      "Instructions for updating:\n",
      "Please use `rate` instead of `keep_prob`. Rate should be set to `rate = 1 - keep_prob`.\n",
      "WARNING:tensorflow:From C:\\Users\\Administrator\\Anaconda3\\lib\\site-packages\\tensorflow\\python\\ops\\math_ops.py:3066: to_int32 (from tensorflow.python.ops.math_ops) is deprecated and will be removed in a future version.\n",
      "Instructions for updating:\n",
      "Use tf.cast instead.\n",
      "Epoch 1/50\n",
      "341/341 [==============================] - 7s 19ms/step - loss: 0.5783 - acc: 0.6981 - val_loss: 0.5196 - val_acc: 0.8067\n",
      "Epoch 2/50\n",
      "341/341 [==============================] - 5s 15ms/step - loss: 0.5006 - acc: 0.7785 - val_loss: 0.4724 - val_acc: 0.7826\n",
      "Epoch 3/50\n",
      "341/341 [==============================] - 5s 14ms/step - loss: 0.4636 - acc: 0.7897 - val_loss: 0.4431 - val_acc: 0.7996\n",
      "Epoch 4/50\n",
      "341/341 [==============================] - 5s 14ms/step - loss: 0.4306 - acc: 0.8089 - val_loss: 0.4174 - val_acc: 0.8113\n",
      "Epoch 5/50\n",
      "341/341 [==============================] - 4s 13ms/step - loss: 0.4002 - acc: 0.8229 - val_loss: 0.3961 - val_acc: 0.8239\n",
      "Epoch 6/50\n",
      "341/341 [==============================] - 5s 14ms/step - loss: 0.3747 - acc: 0.8346 - val_loss: 0.3786 - val_acc: 0.8319\n",
      "Epoch 7/50\n",
      "341/341 [==============================] - 5s 16ms/step - loss: 0.3527 - acc: 0.8475 - val_loss: 0.3646 - val_acc: 0.8385\n",
      "Epoch 8/50\n",
      "341/341 [==============================] - 5s 14ms/step - loss: 0.3335 - acc: 0.8584 - val_loss: 0.3533 - val_acc: 0.8453\n",
      "Epoch 9/50\n",
      "341/341 [==============================] - 5s 14ms/step - loss: 0.3157 - acc: 0.8689 - val_loss: 0.3441 - val_acc: 0.8504\n",
      "Epoch 10/50\n",
      "341/341 [==============================] - 5s 15ms/step - loss: 0.2988 - acc: 0.8796 - val_loss: 0.3368 - val_acc: 0.8543\n",
      "Epoch 11/50\n",
      "341/341 [==============================] - 4s 13ms/step - loss: 0.2873 - acc: 0.8863 - val_loss: 0.3307 - val_acc: 0.8579\n",
      "Epoch 12/50\n",
      "341/341 [==============================] - 5s 14ms/step - loss: 0.2733 - acc: 0.8960 - val_loss: 0.3260 - val_acc: 0.8581\n",
      "Epoch 13/50\n",
      "341/341 [==============================] - 4s 13ms/step - loss: 0.2642 - acc: 0.9011 - val_loss: 0.3222 - val_acc: 0.8617\n",
      "Epoch 14/50\n",
      "341/341 [==============================] - 4s 13ms/step - loss: 0.2519 - acc: 0.9076 - val_loss: 0.3196 - val_acc: 0.8624\n",
      "Epoch 15/50\n",
      "341/341 [==============================] - 5s 14ms/step - loss: 0.2442 - acc: 0.9106 - val_loss: 0.3173 - val_acc: 0.8639\n",
      "Epoch 16/50\n",
      "341/341 [==============================] - 4s 13ms/step - loss: 0.2345 - acc: 0.9164 - val_loss: 0.3165 - val_acc: 0.8633\n",
      "Epoch 17/50\n",
      "341/341 [==============================] - 5s 13ms/step - loss: 0.2249 - acc: 0.9216 - val_loss: 0.3153 - val_acc: 0.8628\n",
      "Epoch 18/50\n",
      "341/341 [==============================] - 4s 13ms/step - loss: 0.2197 - acc: 0.9229 - val_loss: 0.3154 - val_acc: 0.8634\n",
      "Epoch 19/50\n",
      "341/341 [==============================] - 4s 13ms/step - loss: 0.2108 - acc: 0.9274 - val_loss: 0.3154 - val_acc: 0.8650\n",
      "Epoch 20/50\n",
      "341/341 [==============================] - 4s 13ms/step - loss: 0.2071 - acc: 0.9282 - val_loss: 0.3169 - val_acc: 0.8646\n",
      "Epoch 21/50\n",
      "341/341 [==============================] - 4s 13ms/step - loss: 0.1995 - acc: 0.9320 - val_loss: 0.3175 - val_acc: 0.8635\n",
      "Epoch 22/50\n",
      "341/341 [==============================] - 5s 13ms/step - loss: 0.1937 - acc: 0.9345 - val_loss: 0.3185 - val_acc: 0.8639\n",
      "Epoch 23/50\n",
      "341/341 [==============================] - 4s 13ms/step - loss: 0.1872 - acc: 0.9377 - val_loss: 0.3205 - val_acc: 0.8625\n",
      "Epoch 00023: early stopping\n"
     ]
    }
   ],
   "source": [
    "# Neural network architecture\n",
    "initializer = keras.initializers.he_normal(seed=seed)\n",
    "activation = keras.activations.elu\n",
    "optimizer = keras.optimizers.Adam(lr=0.0002, beta_1=0.9, beta_2=0.999, epsilon=1e-8)\n",
    "es = EarlyStopping(monitor='val_acc', mode='max', verbose=1, patience=4)\n",
    "\n",
    "# Build model architecture\n",
    "model = Sequential()\n",
    "model.add(Dense(20, activation=activation, kernel_initializer=initializer, input_dim=X_train.shape[1]))\n",
    "model.add(Dropout(0.5))\n",
    "model.add(Dense(3, activation='softmax', kernel_initializer=initializer))\n",
    "model.compile(optimizer=optimizer,\n",
    "              loss='binary_crossentropy',\n",
    "              metrics=['accuracy'])\n",
    "\n",
    "# Hyperparameters\n",
    "epochs = 50\n",
    "batch_size = 32\n",
    "\n",
    "# Fit the model using the batch_generator\n",
    "hist = model.fit_generator(generator=batch_generator(X_train, onehot_encoded_train, batch_size=batch_size, shuffle=True),\n",
    "                           epochs=epochs, validation_data=(X_val, onehot_encoded_val),\n",
    "                           steps_per_epoch=X_train.shape[0]/batch_size, callbacks=[es])"
   ]
  },
  {
   "cell_type": "code",
   "execution_count": 47,
   "metadata": {},
   "outputs": [
    {
     "name": "stdout",
     "output_type": "stream",
     "text": [
      "_________________________________________________________________\n",
      "Layer (type)                 Output Shape              Param #   \n",
      "=================================================================\n",
      "dense_1 (Dense)              (None, 20)                193460    \n",
      "_________________________________________________________________\n",
      "dropout_1 (Dropout)          (None, 20)                0         \n",
      "_________________________________________________________________\n",
      "dense_2 (Dense)              (None, 3)                 63        \n",
      "=================================================================\n",
      "Total params: 193,523\n",
      "Trainable params: 193,523\n",
      "Non-trainable params: 0\n",
      "_________________________________________________________________\n"
     ]
    }
   ],
   "source": [
    "model.summary()"
   ]
  },
  {
   "cell_type": "code",
   "execution_count": 27,
   "metadata": {},
   "outputs": [
    {
     "data": {
      "image/png": "[encoded data removed]",
      "text/plain": [
       "<Figure size 1080x360 with 1 Axes>"
      ]
     },
     "metadata": {
      "needs_background": "light"
     },
     "output_type": "display_data"
    }
   ],
   "source": [
    "# Visualize Accuracy\n",
    "acc = hist.history['acc']\n",
    "val_acc = hist.history['val_acc']\n",
    "\n",
    "# Get the amount of epochs for visualization\n",
    "stopped_epoch = es.stopped_epoch\n",
    "n_epochs = range(stopped_epoch+1)\n",
    "\n",
    "# Plot training and validation accuracy\n",
    "plt.figure(figsize=(15,5))\n",
    "plt.plot(n_epochs, acc)\n",
    "plt.plot(n_epochs, val_acc)\n",
    "plt.title('Accuracy over epochs', weight='bold', fontsize=22)\n",
    "plt.xlabel('Epochs', fontsize=16)\n",
    "plt.ylabel('Accuracy', fontsize=16)\n",
    "plt.legend(['Training accuracy', 'Validation accuracy'], fontsize=16)\n",
    "plt.show()"
   ]
  },
  {
   "cell_type": "code",
   "execution_count": 28,
   "metadata": {},
   "outputs": [
    {
     "name": "stdout",
     "output_type": "stream",
     "text": [
      "Accuracy on training set (Small NN): 91.8897%\n",
      "Accuracy on validation set (Small NN): 78.7757%\n"
     ]
    }
   ],
   "source": [
    "# Check results of neural network model\n",
    "train_pred = [np.argmax(pred) for pred in model.predict(X_train)]\n",
    "val_pred = [np.argmax(pred) for pred in model.predict(X_val)]\n",
    "print(f'Accuracy on training set (Small NN): {round(accuracy_score(target_train, train_pred)*100, 4)}%')\n",
    "print(f'Accuracy on validation set (Small NN): {round(accuracy_score(target_val, val_pred)*100, 4)}%')"
   ]
  },
  {
   "cell_type": "markdown",
   "metadata": {},
   "source": [
    "# Rule based models"
   ]
  },
  {
   "cell_type": "markdown",
   "metadata": {},
   "source": [
    "# Always predict negative\n"
   ]
  },
  {
   "cell_type": "code",
   "execution_count": 29,
   "metadata": {},
   "outputs": [
    {
     "name": "stdout",
     "output_type": "stream",
     "text": [
      "Accuracy on training set (Always Predict Negative): 62.445%\n",
      "Accuracy on validation set (Always Predict Negative): 63.5264%\n"
     ]
    }
   ],
   "source": [
    "# Predict negative for the whole dataset\n",
    "negative_pred_train = ['negative' for _ in range(len(y_train))]\n",
    "negative_pred_val = ['negative' for _ in range(len(y_val))]\n",
    "\n",
    "print(f'Accuracy on training set (Always Predict Negative): {round(accuracy_score(y_train, negative_pred_train)*100, 4)}%')\n",
    "print(f'Accuracy on validation set (Always Predict Negative): {round(accuracy_score(y_val, negative_pred_val)*100, 4)}%')"
   ]
  },
  {
   "cell_type": "markdown",
   "metadata": {},
   "source": [
    "# Model comparison with test set\n"
   ]
  },
  {
   "cell_type": "code",
   "execution_count": 30,
   "metadata": {},
   "outputs": [
    {
     "name": "stderr",
     "output_type": "stream",
     "text": [
      "C:\\Users\\Administrator\\Anaconda3\\lib\\site-packages\\xgboost\\core.py:587: FutureWarning: Series.base is deprecated and will be removed in a future version\n",
      "  if getattr(data, 'base', None) is not None and \\\n",
      "C:\\Users\\Administrator\\Anaconda3\\lib\\site-packages\\xgboost\\core.py:588: FutureWarning: Series.base is deprecated and will be removed in a future version\n",
      "  data.base is not None and isinstance(data, np.ndarray) \\\n"
     ]
    }
   ],
   "source": [
    "# Predict Always Negative\n",
    "negative_test_pred = ['negative' for _ in range(len(y_test))]\n",
    "\n",
    "# Multinomial Naive Bayes\n",
    "multinb_test_pred = multi_nb.predict(X_test)\n",
    "\n",
    "# Gradient Boosting Classifier\n",
    "gbm_test_pred = gbm.predict(X_test)\n",
    "\n",
    "# XGBoost\n",
    "# Transform test data for XGBoost\n",
    "target_test = y_test.astype('category').cat.codes\n",
    "d_test = xgb.DMatrix(X_test, label = target_test)\n",
    "xgboost_test_pred = bst.predict(d_test)\n",
    "\n",
    "# Neural Network predictions\n",
    "nn_test_pred = [np.argmax(pred) for pred in model.predict(X_test)]"
   ]
  },
  {
   "cell_type": "code",
   "execution_count": 31,
   "metadata": {},
   "outputs": [
    {
     "name": "stdout",
     "output_type": "stream",
     "text": [
      "Accuracy for Always Predict Negative: 63.1%\n",
      "Accuracy for Multinomial Naive Bayes: 67.8%\n",
      "Accuracy for Gradient Boosting Classifier: 77.9%\n",
      "Accuracy for XGBoost: 78.2%\n",
      "Accuracy for Neural Network: 79.7%\n"
     ]
    }
   ],
   "source": [
    "# Get accuracies\n",
    "print(f'Accuracy for Always Predict Negative: {round(accuracy_score(y_test, negative_test_pred)*100, 4)}%')\n",
    "print(f'Accuracy for Multinomial Naive Bayes: {round(accuracy_score(y_test, multinb_test_pred)*100, 4)}%')\n",
    "print(f'Accuracy for Gradient Boosting Classifier: {round(accuracy_score(y_test, gbm_test_pred)*100, 4)}%')\n",
    "print(f'Accuracy for XGBoost: {round(accuracy_score(target_test, xgboost_test_pred)*100, 4)}%')\n",
    "print(f'Accuracy for Neural Network: {round(accuracy_score(target_test, nn_test_pred)*100, 4)}%')"
   ]
  },
  {
   "cell_type": "markdown",
   "metadata": {},
   "source": [
    "# Save models"
   ]
  },
  {
   "cell_type": "code",
   "execution_count": 33,
   "metadata": {},
   "outputs": [],
   "source": [
    "# Save XGBoost model\n",
    "pickle.dump(bst, open('xgboost_sentiment_model.dat', 'wb'))\n",
    "\n",
    "# Save Neural Network model\n",
    "model.save('nn_sentiment_model.h5')"
   ]
  },
  {
   "cell_type": "markdown",
   "metadata": {},
   "source": [
    "# Make predictions"
   ]
  },
  {
   "cell_type": "code",
   "execution_count": 34,
   "metadata": {},
   "outputs": [],
   "source": [
    "# Create dataframe with predictions for XGBoost and Neural Network\n",
    "pred_df = pd.DataFrame({'tweet_id': test_set['tweet_id'],\n",
    "                        'text' : test_set['text'],\n",
    "                       'xgboost_pred' : xgboost_test_pred.astype(int),\n",
    "                       'nn_pred' : nn_test_pred,})\n",
    "\n",
    "# Change predictions back to string values\n",
    "pred_df['xgboost_pred'] = pred_df['xgboost_pred'].map({0: 'Negative', 1: 'Neutral', 2 : 'Positive'})\n",
    "pred_df['nn_pred'] = pred_df['nn_pred'].map({0: 'Negative', 1: 'Neutral', 2 : 'Positive'})"
   ]
  },
  {
   "cell_type": "code",
   "execution_count": 35,
   "metadata": {},
   "outputs": [
    {
     "name": "stdout",
     "output_type": "stream",
     "text": [
      "The models agree with each other 85.7% of the time.\n"
     ]
    }
   ],
   "source": [
    "# Check if two models are in agreement\n",
    "pred_df['pred_agreement'] = (pred_df['xgboost_pred'] == pred_df['nn_pred'])\n",
    "print(f\"The models agree with each other {round(pred_df['pred_agreement'].value_counts()[1]/len(pred_df)*100, 4)}% of the time.\")"
   ]
  },
  {
   "cell_type": "markdown",
   "metadata": {},
   "source": [
    "# Save predictions to csv"
   ]
  },
  {
   "cell_type": "code",
   "execution_count": 36,
   "metadata": {},
   "outputs": [],
   "source": [
    "# Save to csv\n",
    "pred_df.to_csv('sentiments.csv', index=False)"
   ]
  },
  {
   "cell_type": "code",
   "execution_count": 48,
   "metadata": {},
   "outputs": [
    {
     "data": {
      "text/html": [
       "<div>\n",
       "<style scoped>\n",
       "    .dataframe tbody tr th:only-of-type {\n",
       "        vertical-align: middle;\n",
       "    }\n",
       "\n",
       "    .dataframe tbody tr th {\n",
       "        vertical-align: top;\n",
       "    }\n",
       "\n",
       "    .dataframe thead th {\n",
       "        text-align: right;\n",
       "    }\n",
       "</style>\n",
       "<table border=\"1\" class=\"dataframe\">\n",
       "  <thead>\n",
       "    <tr style=\"text-align: right;\">\n",
       "      <th></th>\n",
       "      <th>tweet_id</th>\n",
       "      <th>text</th>\n",
       "      <th>xgboost_pred</th>\n",
       "      <th>nn_pred</th>\n",
       "      <th>pred_agreement</th>\n",
       "    </tr>\n",
       "  </thead>\n",
       "  <tbody>\n",
       "    <tr>\n",
       "      <th>0</th>\n",
       "      <td>568486436355346432</td>\n",
       "      <td>@USAirways we bought our tickets months ago. H...</td>\n",
       "      <td>Negative</td>\n",
       "      <td>Negative</td>\n",
       "      <td>True</td>\n",
       "    </tr>\n",
       "    <tr>\n",
       "      <th>1</th>\n",
       "      <td>568129652625158147</td>\n",
       "      <td>@united why is my flight from mke to ord getti...</td>\n",
       "      <td>Negative</td>\n",
       "      <td>Negative</td>\n",
       "      <td>True</td>\n",
       "    </tr>\n",
       "    <tr>\n",
       "      <th>2</th>\n",
       "      <td>569887996071297024</td>\n",
       "      <td>@AmericanAir My boyfriend was supposed to be h...</td>\n",
       "      <td>Negative</td>\n",
       "      <td>Negative</td>\n",
       "      <td>True</td>\n",
       "    </tr>\n",
       "    <tr>\n",
       "      <th>3</th>\n",
       "      <td>567858957546561536</td>\n",
       "      <td>@USAirways sits on a throne of lies</td>\n",
       "      <td>Negative</td>\n",
       "      <td>Negative</td>\n",
       "      <td>True</td>\n",
       "    </tr>\n",
       "    <tr>\n",
       "      <th>4</th>\n",
       "      <td>570204088908034049</td>\n",
       "      <td>@SouthwestAir it's just the principle - it's h...</td>\n",
       "      <td>Negative</td>\n",
       "      <td>Negative</td>\n",
       "      <td>True</td>\n",
       "    </tr>\n",
       "    <tr>\n",
       "      <th>5</th>\n",
       "      <td>568178355452792832</td>\n",
       "      <td>@SouthwestAir I dunno my travel information.. ...</td>\n",
       "      <td>Neutral</td>\n",
       "      <td>Neutral</td>\n",
       "      <td>True</td>\n",
       "    </tr>\n",
       "    <tr>\n",
       "      <th>6</th>\n",
       "      <td>568968059517411329</td>\n",
       "      <td>@JetBlue flight 348 is a freaking nightmare to...</td>\n",
       "      <td>Negative</td>\n",
       "      <td>Negative</td>\n",
       "      <td>True</td>\n",
       "    </tr>\n",
       "    <tr>\n",
       "      <th>7</th>\n",
       "      <td>569612120758878208</td>\n",
       "      <td>@JetBlue follow for DM please</td>\n",
       "      <td>Neutral</td>\n",
       "      <td>Neutral</td>\n",
       "      <td>True</td>\n",
       "    </tr>\n",
       "    <tr>\n",
       "      <th>8</th>\n",
       "      <td>569329921740427264</td>\n",
       "      <td>@JetBlue she did. she's still waiting on a cal...</td>\n",
       "      <td>Negative</td>\n",
       "      <td>Negative</td>\n",
       "      <td>True</td>\n",
       "    </tr>\n",
       "    <tr>\n",
       "      <th>9</th>\n",
       "      <td>569996914546094080</td>\n",
       "      <td>“@JetBlue: Our fleet's on fleek. http://t.co/T...</td>\n",
       "      <td>Neutral</td>\n",
       "      <td>Neutral</td>\n",
       "      <td>True</td>\n",
       "    </tr>\n",
       "  </tbody>\n",
       "</table>\n",
       "</div>"
      ],
      "text/plain": [
       "             tweet_id                                               text  \\\n",
       "0  568486436355346432  @USAirways we bought our tickets months ago. H...   \n",
       "1  568129652625158147  @united why is my flight from mke to ord getti...   \n",
       "2  569887996071297024  @AmericanAir My boyfriend was supposed to be h...   \n",
       "3  567858957546561536                @USAirways sits on a throne of lies   \n",
       "4  570204088908034049  @SouthwestAir it's just the principle - it's h...   \n",
       "5  568178355452792832  @SouthwestAir I dunno my travel information.. ...   \n",
       "6  568968059517411329  @JetBlue flight 348 is a freaking nightmare to...   \n",
       "7  569612120758878208                      @JetBlue follow for DM please   \n",
       "8  569329921740427264  @JetBlue she did. she's still waiting on a cal...   \n",
       "9  569996914546094080  “@JetBlue: Our fleet's on fleek. http://t.co/T...   \n",
       "\n",
       "  xgboost_pred   nn_pred  pred_agreement  \n",
       "0     Negative  Negative            True  \n",
       "1     Negative  Negative            True  \n",
       "2     Negative  Negative            True  \n",
       "3     Negative  Negative            True  \n",
       "4     Negative  Negative            True  \n",
       "5      Neutral   Neutral            True  \n",
       "6     Negative  Negative            True  \n",
       "7      Neutral   Neutral            True  \n",
       "8     Negative  Negative            True  \n",
       "9      Neutral   Neutral            True  "
      ]
     },
     "execution_count": 48,
     "metadata": {},
     "output_type": "execute_result"
    }
   ],
   "source": [
    "# Final test\n",
    "df_test = pd.read_csv('sentiments.csv'); df_test.head(10)"
   ]
  },
  {
   "cell_type": "code",
   "execution_count": null,
   "metadata": {},
   "outputs": [],
   "source": []
  }
 ],
 "metadata": {
  "kernelspec": {
   "display_name": "Python 3",
   "language": "python",
   "name": "python3"
  },
  "language_info": {
   "codemirror_mode": {
    "name": "ipython",
    "version": 3
   },
   "file_extension": ".py",
   "mimetype": "text/x-python",
   "name": "python",
   "nbconvert_exporter": "python",
   "pygments_lexer": "ipython3",
   "version": "3.7.1"
  }
 },
 "nbformat": 4,
 "nbformat_minor": 2
}
